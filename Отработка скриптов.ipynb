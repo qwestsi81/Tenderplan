{
 "cells": [
  {
   "cell_type": "markdown",
   "id": "c74f7d8b-26de-4f96-a5f1-4702de1b7117",
   "metadata": {},
   "source": [
    "### Скрипт вызывающий отдельные блоки программы"
   ]
  },
  {
   "cell_type": "code",
   "execution_count": null,
   "id": "1a87b76a-b483-46e6-9838-a3c3b270e636",
   "metadata": {},
   "outputs": [],
   "source": [
    "\n",
    "import time"
   ]
  },
  {
   "cell_type": "code",
   "execution_count": null,
   "id": "9c09e509-9bbb-4904-ba1a-88aafaa82235",
   "metadata": {},
   "outputs": [],
   "source": [
    "\n",
    "%run \"create_DB.ipynb\"\n",
    "\n",
    "time.sleep(3)\n",
    "\n",
    "%run \"dict_users.ipynb\"\n",
    "\n",
    "time.sleep(3)\n",
    "\n",
    "%run \"dict_marks.ipynb\"\n",
    "\n",
    "time.sleep(3)\n",
    "\n",
    "%run \"dict_status.ipynb\"\n",
    "\n",
    "time.sleep(3)\n",
    "\n",
    "%run \"dict_placingway.ipynb\"\n",
    "\n",
    "time.sleep(3)\n",
    "\n",
    "%run \"dict_region.ipynb\"\n",
    "\n",
    "time.sleep(3)\n",
    "\n",
    "%run \"lst_тenders.ipynb\"\n",
    "\n",
    "time.sleep(3)\n",
    "\n",
    "%run \"df_tenders.ipynb\"\n",
    "\n",
    "time.sleep(3)\n",
    "\n",
    "%run \"alter_incert_DB.ipynb\"\n"
   ]
  },
  {
   "cell_type": "code",
   "execution_count": null,
   "id": "0db192ad-7904-4210-9107-00a377c17b05",
   "metadata": {},
   "outputs": [],
   "source": []
  }
 ],
 "metadata": {
  "kernelspec": {
   "display_name": "Python 3 (ipykernel)",
   "language": "python",
   "name": "python3"
  },
  "language_info": {
   "codemirror_mode": {
    "name": "ipython",
    "version": 3
   },
   "file_extension": ".py",
   "mimetype": "text/x-python",
   "name": "python",
   "nbconvert_exporter": "python",
   "pygments_lexer": "ipython3",
   "version": "3.12.4"
  }
 },
 "nbformat": 4,
 "nbformat_minor": 5
}
