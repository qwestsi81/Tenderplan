{
 "cells": [
  {
   "cell_type": "markdown",
   "id": "2522ec3d-ffb6-4d89-a754-cc35f97e048e",
   "metadata": {},
   "source": [
    "# Формирование таблицы словаря 'status' для базы данных.\n",
    "\n",
    "### 1. Подготовка"
   ]
  },
  {
   "cell_type": "code",
   "execution_count": 2,
   "id": "bec5b800-ae24-400d-b5bc-f82cc7ae3d00",
   "metadata": {},
   "outputs": [],
   "source": [
    "\n",
    "import os\n",
    "import time\n",
    "import json\n",
    "import datetime\n",
    "\n",
    "import requests as rq\n",
    "import pandas as pd\n",
    "import numpy as np\n",
    "import tqdm\n",
    "from sqlalchemy import create_engine\n"
   ]
  },
  {
   "cell_type": "markdown",
   "id": "855e6664-99be-4692-8db7-31d7314fdeb4",
   "metadata": {},
   "source": [
    "### 2. Формирование переменных для подключения"
   ]
  },
  {
   "cell_type": "code",
   "execution_count": null,
   "id": "4dd3b1ff-0590-472b-8571-c4d22399601d",
   "metadata": {},
   "outputs": [],
   "source": [
    "\n",
    "TOKEN = 'Bearer '\n",
    "API = '/api/tools/statuses/list'\n",
    "URL = 'https://tenderplan.ru' + API\n",
    "headers = {\n",
    "    'Authorization': TOKEN,\n",
    "    'Accept': 'application/json'\n",
    "}\n",
    "\n",
    "engine_pet = create_engine('mysql+mysqlconnector://root:''@''/pet_proect')\n"
   ]
  },
  {
   "cell_type": "markdown",
   "id": "79d96346-3099-40e9-a373-0358953c2a85",
   "metadata": {},
   "source": [
    "### 3. Подключение к API tenderplan"
   ]
  },
  {
   "cell_type": "code",
   "execution_count": 5,
   "id": "41b6b323-eb3c-4e05-8369-b821b2fad532",
   "metadata": {},
   "outputs": [],
   "source": [
    "\n",
    "response_status = rq.get(\n",
    "    URL,\n",
    "    headers=headers\n",
    ").json()\n"
   ]
  },
  {
   "cell_type": "markdown",
   "id": "4f337777-b97e-460b-aa0a-8029ac938dc8",
   "metadata": {},
   "source": [
    "### 4. Формирование DataFrame 'Status' и преобразовываем в нужный вид\n",
    "\n",
    "Формируем DataFrame с columns:\n",
    "- _id - уникальный ключ статуса;\n",
    "- name - наименования статуса;\n",
    "- shortname - краткое наименование;\n",
    "- order - порядок статусов."
   ]
  },
  {
   "cell_type": "code",
   "execution_count": 6,
   "id": "baac1342-6f4e-4327-b220-e82351ecef54",
   "metadata": {},
   "outputs": [],
   "source": [
    "df_status = (\n",
    "    pd.DataFrame(\n",
    "        response_status,\n",
    "        columns = [\n",
    "            '_id',\n",
    "            'name',\n",
    "            'shortName',\n",
    "            'order'\n",
    "        ]\n",
    "    )\n",
    "    .set_index('_id')\n",
    ")"
   ]
  },
  {
   "cell_type": "markdown",
   "id": "71ae3ae6-b2d2-48f6-82d9-7ac5774f1674",
   "metadata": {},
   "source": [
    "### 5. Загружаем данные во временную таблицу 'tmp_dict_status'"
   ]
  },
  {
   "cell_type": "code",
   "execution_count": 9,
   "id": "f6a9fdbc-785d-44cc-9b87-84a6317b0497",
   "metadata": {},
   "outputs": [
    {
     "data": {
      "text/plain": [
       "-1"
      ]
     },
     "execution_count": 9,
     "metadata": {},
     "output_type": "execute_result"
    }
   ],
   "source": [
    "(\n",
    "    df_status\n",
    "    .reset_index()\n",
    "    .to_sql(\n",
    "        'tmp_dict_status', \n",
    "        con = engine_pet, \n",
    "        if_exists = 'replace', \n",
    "        index = False\n",
    "    )\n",
    ")"
   ]
  },
  {
   "cell_type": "code",
   "execution_count": 8,
   "id": "d55cb48a-97f9-474a-b82d-a769b4109ff9",
   "metadata": {},
   "outputs": [
    {
     "data": {
      "text/html": [
       "<div>\n",
       "<style scoped>\n",
       "    .dataframe tbody tr th:only-of-type {\n",
       "        vertical-align: middle;\n",
       "    }\n",
       "\n",
       "    .dataframe tbody tr th {\n",
       "        vertical-align: top;\n",
       "    }\n",
       "\n",
       "    .dataframe thead th {\n",
       "        text-align: right;\n",
       "    }\n",
       "</style>\n",
       "<table border=\"1\" class=\"dataframe\">\n",
       "  <thead>\n",
       "    <tr style=\"text-align: right;\">\n",
       "      <th></th>\n",
       "      <th>name</th>\n",
       "      <th>shortName</th>\n",
       "      <th>order</th>\n",
       "    </tr>\n",
       "    <tr>\n",
       "      <th>_id</th>\n",
       "      <th></th>\n",
       "      <th></th>\n",
       "      <th></th>\n",
       "    </tr>\n",
       "  </thead>\n",
       "  <tbody>\n",
       "    <tr>\n",
       "      <th>1</th>\n",
       "      <td>Прием заявок</td>\n",
       "      <td>Прием заявок</td>\n",
       "      <td>0</td>\n",
       "    </tr>\n",
       "    <tr>\n",
       "      <th>4</th>\n",
       "      <td>Размещение отменено</td>\n",
       "      <td>Отменено</td>\n",
       "      <td>1</td>\n",
       "    </tr>\n",
       "    <tr>\n",
       "      <th>5</th>\n",
       "      <td>Размещение не состоялось</td>\n",
       "      <td>Не состоялось</td>\n",
       "      <td>2</td>\n",
       "    </tr>\n",
       "    <tr>\n",
       "      <th>2</th>\n",
       "      <td>Работа комиссии</td>\n",
       "      <td>Работа комиссии</td>\n",
       "      <td>3</td>\n",
       "    </tr>\n",
       "    <tr>\n",
       "      <th>3</th>\n",
       "      <td>Размещение завершено</td>\n",
       "      <td>Завершено</td>\n",
       "      <td>4</td>\n",
       "    </tr>\n",
       "  </tbody>\n",
       "</table>\n",
       "</div>"
      ],
      "text/plain": [
       "                         name        shortName  order\n",
       "_id                                                  \n",
       "1                Прием заявок     Прием заявок      0\n",
       "4         Размещение отменено         Отменено      1\n",
       "5    Размещение не состоялось    Не состоялось      2\n",
       "2             Работа комиссии  Работа комиссии      3\n",
       "3        Размещение завершено        Завершено      4"
      ]
     },
     "execution_count": 8,
     "metadata": {},
     "output_type": "execute_result"
    }
   ],
   "source": [
    "df_status.head()"
   ]
  },
  {
   "cell_type": "code",
   "execution_count": null,
   "id": "8073c4a2-51ea-4a26-9347-f03784770232",
   "metadata": {},
   "outputs": [],
   "source": []
  }
 ],
 "metadata": {
  "kernelspec": {
   "display_name": "Python 3 (ipykernel)",
   "language": "python",
   "name": "python3"
  },
  "language_info": {
   "codemirror_mode": {
    "name": "ipython",
    "version": 3
   },
   "file_extension": ".py",
   "mimetype": "text/x-python",
   "name": "python",
   "nbconvert_exporter": "python",
   "pygments_lexer": "ipython3",
   "version": "3.12.4"
  }
 },
 "nbformat": 4,
 "nbformat_minor": 5
}
