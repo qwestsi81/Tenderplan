{
 "cells": [
  {
   "cell_type": "markdown",
   "id": "2b12f8cb-6f99-457f-8563-a9a7e4c688a0",
   "metadata": {},
   "source": [
    "# Формирования таблицы фактов 'tenders' и 'products' для базы данных.\n",
    "\n",
    "### 1. Подготовка"
   ]
  },
  {
   "cell_type": "code",
   "execution_count": 1,
   "id": "8d3ca308-3098-4f52-afb2-b37681f0faba",
   "metadata": {},
   "outputs": [],
   "source": [
    "\n",
    "import os\n",
    "import time\n",
    "import json\n",
    "import datetime\n",
    "\n",
    "import requests as rq\n",
    "import pandas as pd\n",
    "import numpy as np\n",
    "import tqdm\n",
    "\n",
    "from sqlalchemy import create_engine\n"
   ]
  },
  {
   "cell_type": "markdown",
   "id": "65e2e1a9-6394-4dc3-833c-6c2395fa8137",
   "metadata": {},
   "source": [
    "### 2. Формирование переменных для подключения"
   ]
  },
  {
   "cell_type": "code",
   "execution_count": null,
   "id": "b8b3f027-0eef-4bdf-a58c-31cf96ef2bd3",
   "metadata": {},
   "outputs": [],
   "source": [
    "\n",
    "TOKEN = 'Bearer '\n",
    "API = '/api/tenders/get'\n",
    "URL = 'https://tenderplan.ru' + API\n",
    "\n",
    "headers = {\n",
    "    'Authorization': TOKEN,\n",
    "    'Accept': 'application/json'\n",
    "}\n"
   ]
  },
  {
   "cell_type": "markdown",
   "id": "c946a31d-6a7d-466f-b77d-5484d84d78ee",
   "metadata": {},
   "source": [
    "### 3. Формирую переменную со списокм тендеров.\n",
    "\n",
    "Для этого подтягиваю из временных таблиц сформированных в других скриптах нужные данные."
   ]
  },
  {
   "cell_type": "code",
   "execution_count": null,
   "id": "82d3f1c1-d38a-43d0-a915-b6b2e5f6f987",
   "metadata": {},
   "outputs": [],
   "source": [
    "\n",
    "engine_pet = create_engine('mysql+mysqlconnector://root:''@''/pet_proect')\n",
    "\n",
    "df_dict_tenders = pd.read_sql(\n",
    "    'SELECT * FROM tmp_dict_tenders', \n",
    "    con = engine_pet, \n",
    "    index_col = '_id'\n",
    ")\n",
    "\n",
    "lst_tendrs = df_dict_tenders.index.to_list()\n"
   ]
  },
  {
   "cell_type": "markdown",
   "id": "934f6429-35fb-4a81-85ed-8ceed1f202d8",
   "metadata": {},
   "source": [
    "### 4. Формирование функции get запроса для цилка и функции преобразования времени"
   ]
  },
  {
   "cell_type": "code",
   "execution_count": 11,
   "id": "fb1a1b16-8fb8-4754-bb21-b31e2b07a2d6",
   "metadata": {},
   "outputs": [],
   "source": [
    "\n",
    "if __name__ == '__main__':\n",
    "    def f_lst_tender(id_):\n",
    "        '''Функция гет запроса принимающая ID тендера и выводит get запрос'''\n",
    "        response = rq.get(\n",
    "            URL + f'?id={str(id_)}',\n",
    "            headers = headers\n",
    "        ).json()\n",
    "        return response\n",
    "    \n",
    "def f_date_fr_time(x):\n",
    "    '''Принимает UNIX-время и возвращате дату в формате datetime'''\n",
    "    return datetime.datetime.fromtimestamp(x//1000)\n"
   ]
  },
  {
   "cell_type": "markdown",
   "id": "f9ecc28e-63ce-474d-824f-7d4125c55a04",
   "metadata": {},
   "source": [
    "### 4. Цикл формирует список с нужными ключами словаря и данными"
   ]
  },
  {
   "cell_type": "code",
   "execution_count": 12,
   "id": "aca8e92f-1dd6-416d-999b-24b5f026b9a0",
   "metadata": {},
   "outputs": [
    {
     "name": "stderr",
     "output_type": "stream",
     "text": [
      "100%|██████████| 7640/7640 [38:36<00:00,  3.30it/s]  \n"
     ]
    }
   ],
   "source": [
    "\n",
    "start_time = time.time()\n",
    "lst_tender_lst_dict = []\n",
    "\n",
    "for x in tqdm.tqdm(lst_tendrs):\n",
    "    get_tender = f_lst_tender(x)\n",
    "    df_tenders_fact = {\n",
    "        '_id': get_tender.get('_id'),\n",
    "        'multilot': get_tender.get('multilot'),\n",
    "        'attachments': get_tender.get('attachments'),\n",
    "        'guaranteeApp': get_tender.get('guaranteeApp'),\n",
    "        'guaranteeContract': get_tender.get('guaranteeContract'),\n",
    "        'platform': get_tender.get('platform'),\n",
    "        'products': get_tender.get('products')\n",
    "    }\n",
    "    lst_tender_lst_dict.append(df_tenders_fact)\n",
    "    time.sleep(0.08)\n",
    "    \n",
    "end_time = time.time()\n",
    "df_tenders_fact = lst_tender_lst_dict\n",
    "\n",
    "del lst_tender_lst_dict\n",
    "del get_tender\n"
   ]
  },
  {
   "cell_type": "markdown",
   "id": "a9ac081b-8364-4fbf-895b-a5b80c66de3a",
   "metadata": {},
   "source": [
    "### 5. Формирую два DataFrame: \n",
    "\n",
    "- DataFrame 'garant' дополняющий словарь тендеров атрибутами признака мультилот и суммами гарантий контракта;\n",
    "- DataFrame ФЗ контрактов;\n",
    "- DataFrame с платформами отогрышей тендеров.\n",
    "\n",
    "И данный DataFrame joinю со справочником тендеров из временной таблицы"
   ]
  },
  {
   "cell_type": "code",
   "execution_count": null,
   "id": "32438298-03f2-454f-913f-0be15b3c3a73",
   "metadata": {},
   "outputs": [],
   "source": [
    "\n",
    "'''DataFrame с данными по мультилот и гарантиями контратка'''\n",
    "\n",
    "df_garant = pd.DataFrame(\n",
    "    data = df_tenders_fact, \n",
    "    columns = [\n",
    "        '_id',\n",
    "        'multilot', \n",
    "        'guaranteeApp',\n",
    "        'guaranteeContract' \n",
    "    ]\n",
    ").set_index('_id')\n",
    "\n",
    "'''DataFrame с данными по форме ФЗ'''\n",
    "\n",
    "df_attachments_ = (\n",
    "    pd.DataFrame(\n",
    "        data = df_tenders_fact, \n",
    "        columns = [\n",
    "            '_id',\n",
    "            'attachments'\n",
    "        ]\n",
    "    )\n",
    "    .set_index('_id')\n",
    ")\n",
    "\n",
    "df_attachments = (\n",
    "    pd.json_normalize(\n",
    "        df_attachments_.explode('attachments')['attachments']\n",
    "    )\n",
    "    .set_index(df_attachments_.explode('attachments').index)\n",
    "    .loc[\n",
    "        :, \n",
    "        [\n",
    "            'displayName', \n",
    "            'href', \n",
    "            'realName', \n",
    "            'size'\n",
    "        ]\n",
    "    ]\n",
    ")\n",
    "\n",
    "'''DataFrame с даннми по платформе отыгрышей тендеров'''\n",
    "\n",
    "df_platform = pd.DataFrame(\n",
    "    df_tenders_fact, \n",
    "    columns = [\n",
    "        '_id',\n",
    "        'platform'\n",
    "    ]\n",
    ").set_index('_id')\n",
    "\n",
    "df_platform = pd.json_normalize(df_platform['platform']).set_index(df_platform.index)\n",
    "\n",
    "df_garant = (\n",
    "    df_garant\n",
    "    .assign(\n",
    "        **{\n",
    "            'fz': df_attachments_.map((\n",
    "                lambda x: x[0]['href']\n",
    "                .split('/')[3]\n",
    "                .removesuffix('fz')\n",
    "            ))\n",
    "        }\n",
    "    )\n",
    "    .join(df_platform, lsuffix = '/garant', rsuffix = '/platgorm')\n",
    "    .join(df_dict_tenders, lsuffix = '/garant', rsuffix = '/dict')\n",
    ")\n",
    "\n",
    "'''DataFrame со спецификацией тендера'''\n",
    "\n",
    "df_products = (\n",
    "    pd.DataFrame(\n",
    "        df_tenders_fact, \n",
    "        columns = [\n",
    "            '_id',\n",
    "            'products'\n",
    "        ]\n",
    "    )\n",
    "    .set_index('_id')\n",
    "    .explode('products')\n",
    ")\n",
    "\n",
    "lst_nm_pr = [\n",
    "    'name',\n",
    "    'price',\n",
    "    'quantity',\n",
    "    'unit'\n",
    "]\n",
    "\n",
    "df_products = (\n",
    "    pd.json_normalize(df_products['products'])\n",
    "    .set_index(df_products.index)\n",
    "    .loc[:,lst_nm_pr]\n",
    "    .dropna(subset = lst_nm_pr)\n",
    ")\n",
    "\n",
    "del df_attachments_\n",
    "del df_platform\n",
    "del lst_nm_pr\n",
    "del df_dict_tenders\n"
   ]
  },
  {
   "cell_type": "markdown",
   "id": "78ff0ecb-1ebd-4649-bc83-2f85730f486e",
   "metadata": {},
   "source": [
    "### 6. Загрузка данных во временную таблицу справочника тендеров (замена) и загрузка в новую временную таблицу таблицы фактов со спецификацией тендера"
   ]
  },
  {
   "cell_type": "code",
   "execution_count": 35,
   "id": "1877ad72-21a3-484c-aea7-79f6126dceb8",
   "metadata": {},
   "outputs": [
    {
     "data": {
      "text/plain": [
       "-1"
      ]
     },
     "execution_count": 35,
     "metadata": {},
     "output_type": "execute_result"
    }
   ],
   "source": [
    "\n",
    "(\n",
    "    df_garant\n",
    "    .reset_index()\n",
    "    .to_sql(\n",
    "        'tmp_dict_tenders', \n",
    "        con = engine_pet, \n",
    "        if_exists = 'replace', \n",
    "        index = False\n",
    "    )\n",
    ")\n",
    "\n",
    "time.sleep(1)\n",
    "\n",
    "(\n",
    "    df_products\n",
    "    .reset_index()\n",
    "    .to_sql(\n",
    "        'tmp_products', \n",
    "        con = engine_pet, \n",
    "        if_exists = 'replace', \n",
    "        index = False\n",
    "    )\n",
    ")\n"
   ]
  }
 ],
 "metadata": {
  "kernelspec": {
   "display_name": "Python 3 (ipykernel)",
   "language": "python",
   "name": "python3"
  },
  "language_info": {
   "codemirror_mode": {
    "name": "ipython",
    "version": 3
   },
   "file_extension": ".py",
   "mimetype": "text/x-python",
   "name": "python",
   "nbconvert_exporter": "python",
   "pygments_lexer": "ipython3",
   "version": "3.12.4"
  }
 },
 "nbformat": 4,
 "nbformat_minor": 5
}
