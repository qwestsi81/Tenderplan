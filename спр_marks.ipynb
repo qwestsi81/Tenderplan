{
 "cells": [
  {
   "cell_type": "markdown",
   "id": "99d9dc30-4bd9-4d9e-8c93-43aad47d8991",
   "metadata": {},
   "source": [
    "# Формирование таблицы словаря 'Marks' для базы данных.\n",
    "\n",
    "### 1. Подготовка"
   ]
  },
  {
   "cell_type": "code",
   "execution_count": 1,
   "id": "9af9e3bd-255d-4b14-a8db-e5b3b1add375",
   "metadata": {},
   "outputs": [],
   "source": [
    "\n",
    "import os\n",
    "import time\n",
    "import json\n",
    "import datetime\n",
    "\n",
    "import requests as rq\n",
    "import pandas as pd\n",
    "import numpy as np\n",
    "import tqdm\n",
    "from sqlalchemy import create_engine\n"
   ]
  },
  {
   "cell_type": "markdown",
   "id": "c9d0bf6a-4280-4853-979f-585f62393be2",
   "metadata": {},
   "source": [
    "### 2. Формирование переменных для подключения"
   ]
  },
  {
   "cell_type": "code",
   "execution_count": null,
   "id": "97478167-f7a2-49e3-8316-1a9974293583",
   "metadata": {},
   "outputs": [],
   "source": [
    "\n",
    "TOKEN = 'Bearer '\n",
    "API = '/api/marks/getall'\n",
    "URL = 'https://tenderplan.ru' + API\n",
    "headers = {\n",
    "    'Authorization': TOKEN,\n",
    "    'Accept': 'application/json'\n",
    "}\n",
    "\n",
    "engine_pet = create_engine('mysql+mysqlconnector://root:''@''/pet_proect')\n"
   ]
  },
  {
   "cell_type": "markdown",
   "id": "da194ad2-4e86-4ef7-8996-73e49cb7477a",
   "metadata": {},
   "source": [
    "### 3. Подключение к API tenderplan"
   ]
  },
  {
   "cell_type": "code",
   "execution_count": 34,
   "id": "bc61ff6c-2057-460c-b3ef-a9dc823fd895",
   "metadata": {},
   "outputs": [],
   "source": [
    "\n",
    "response_marks = rq.get(\n",
    "    URL,\n",
    "    headers = headers\n",
    ").json()\n"
   ]
  },
  {
   "cell_type": "markdown",
   "id": "23a057b0-b9a9-46b6-a453-921b9fa47177",
   "metadata": {},
   "source": [
    "### 4. Формируем функцию для преобразования UNIX-времени в правильный формат datetime"
   ]
  },
  {
   "cell_type": "code",
   "execution_count": 18,
   "id": "e4b6a7af-ca09-4732-b588-0f6a16ee9790",
   "metadata": {},
   "outputs": [],
   "source": [
    "\n",
    "if __name__ == '__main__':\n",
    "    def f_date_fr_time(date_):\n",
    "        '''Принимает UNIX-время и возвращате дату в формате datetime'''\n",
    "        return datetime.datetime.fromtimestamp(date_//1000)\n"
   ]
  },
  {
   "cell_type": "markdown",
   "id": "e66ede96-c550-4cb6-8bb3-f27b2df10efc",
   "metadata": {},
   "source": [
    "### 5. Формирование DataFrame 'marks' и преобразовываем в нужный вид\n",
    "\n",
    "Формируем DataFrame с columns:\n",
    "- _id - уникальный ключ марки;\n",
    "- name - наименованеи марки;\n",
    "- isDeleted - удаленА ли марка из базы;\n",
    "- createDateTime - дата заведения марки (формат UNXI-время);\n",
    "- updateDateTime - дата изменения марки (формат UNXI-время).\n",
    "\n",
    "Для преобразования unix-времени в атрибуте updateDateTime были удалены значения nan в данном атрибуте, применена функция 'f_date_fr_time' для присвоения нового типа данных.\n",
    "Также был добавлен новый атрибут 'true_name' где были изменены наименования марок."
   ]
  },
  {
   "cell_type": "code",
   "execution_count": 31,
   "id": "b6a9ca25-6a23-410f-9bab-74295b42f5d6",
   "metadata": {},
   "outputs": [],
   "source": [
    "\n",
    "df_marks = pd.DataFrame(\n",
    "    response_marks,\n",
    "    columns = [\n",
    "        '_id',\n",
    "        'name',\n",
    "        'isDeleted',\n",
    "        'createDateTime',\n",
    "        'updateDateTime'\n",
    "    ]\n",
    ").set_index('_id').loc[lambda x: ~x['isDeleted']]\n",
    "\n",
    "df_marks = df_marks.assign(\n",
    "    **{\n",
    "        'createDateTime': df_marks['createDateTime'].map(f_date_fr_time),\n",
    "        'updateDateTime': (\n",
    "            df_marks['updateDateTime']\n",
    "            .dropna()\n",
    "            .astype(np.int64)\n",
    "            .map(f_date_fr_time)\n",
    "        ),\n",
    "        'name': df_marks['name'].map(lambda x: x.lower()),\n",
    "        'true_name': df_marks.loc[\n",
    "            [\n",
    "                '63ca2494b2cb7552afeec78b',\n",
    "                '63ca249dd606039bd7f2b40e',\n",
    "                '65efe93047d03ddb11ee5953',\n",
    "                '63cea8faa4e9171a4c97c4f8',\n",
    "                '68467b2f7e6f0306f565c4df',\n",
    "                '68467b455b73299890484d87'\n",
    "            ],\n",
    "            ['name']\n",
    "        ].map(lambda x: x.lower().split()[0])\n",
    "    }\n",
    ").fillna({'true_name': 'прочее'})\n"
   ]
  },
  {
   "cell_type": "markdown",
   "id": "5b7c1192-4edd-4b0a-b0d2-d53fda7335e9",
   "metadata": {},
   "source": [
    "### 6. Загружаем данные во временную таблицу 'tmp_dict_marks'"
   ]
  },
  {
   "cell_type": "code",
   "execution_count": 33,
   "id": "590b5bb1-cfce-49f4-a6c3-7a5259fc5032",
   "metadata": {},
   "outputs": [
    {
     "data": {
      "text/plain": [
       "-1"
      ]
     },
     "execution_count": 33,
     "metadata": {},
     "output_type": "execute_result"
    }
   ],
   "source": [
    "\n",
    "(\n",
    "    df_marks\n",
    "    .reset_index()\n",
    "    .to_sql(\n",
    "        'tmp_dict_marks', \n",
    "        con = engine_pet, \n",
    "        index = False, \n",
    "        if_exists = 'replace'\n",
    "    )\n",
    ")\n"
   ]
  },
  {
   "cell_type": "code",
   "execution_count": 30,
   "id": "e02a3c41-4002-4efa-abc7-5d7f27349c85",
   "metadata": {},
   "outputs": [
    {
     "data": {
      "text/html": [
       "<div>\n",
       "<style scoped>\n",
       "    .dataframe tbody tr th:only-of-type {\n",
       "        vertical-align: middle;\n",
       "    }\n",
       "\n",
       "    .dataframe tbody tr th {\n",
       "        vertical-align: top;\n",
       "    }\n",
       "\n",
       "    .dataframe thead th {\n",
       "        text-align: right;\n",
       "    }\n",
       "</style>\n",
       "<table border=\"1\" class=\"dataframe\">\n",
       "  <thead>\n",
       "    <tr style=\"text-align: right;\">\n",
       "      <th></th>\n",
       "      <th>name</th>\n",
       "      <th>isDeleted</th>\n",
       "      <th>createDateTime</th>\n",
       "      <th>updateDateTime</th>\n",
       "      <th>true_name</th>\n",
       "    </tr>\n",
       "    <tr>\n",
       "      <th>_id</th>\n",
       "      <th></th>\n",
       "      <th></th>\n",
       "      <th></th>\n",
       "      <th></th>\n",
       "      <th></th>\n",
       "    </tr>\n",
       "  </thead>\n",
       "  <tbody>\n",
       "    <tr>\n",
       "      <th>63c8d71004a28500ff75d0aa</th>\n",
       "      <td>44 участвуем</td>\n",
       "      <td>False</td>\n",
       "      <td>2023-01-19 12:37:20</td>\n",
       "      <td>2024-07-19 13:33:14</td>\n",
       "      <td>прочее</td>\n",
       "    </tr>\n",
       "    <tr>\n",
       "      <th>63c8d71004a28500ff75d0ab</th>\n",
       "      <td>посмотреть итоги</td>\n",
       "      <td>False</td>\n",
       "      <td>2023-01-19 12:37:20</td>\n",
       "      <td>2024-02-19 11:46:13</td>\n",
       "      <td>прочее</td>\n",
       "    </tr>\n",
       "    <tr>\n",
       "      <th>63c8f53e3e7552dfcf3e9741</th>\n",
       "      <td>нп никита</td>\n",
       "      <td>False</td>\n",
       "      <td>2023-01-19 14:46:06</td>\n",
       "      <td>2025-05-20 12:19:13</td>\n",
       "      <td>прочее</td>\n",
       "    </tr>\n",
       "    <tr>\n",
       "      <th>63c8f7dd63fd9c162e85aacf</th>\n",
       "      <td>стас запрос</td>\n",
       "      <td>False</td>\n",
       "      <td>2023-01-19 14:57:17</td>\n",
       "      <td>2024-02-19 09:41:37</td>\n",
       "      <td>прочее</td>\n",
       "    </tr>\n",
       "    <tr>\n",
       "      <th>63c8fdd804a28500ff75f6a8</th>\n",
       "      <td>44 минус</td>\n",
       "      <td>False</td>\n",
       "      <td>2023-01-19 15:22:48</td>\n",
       "      <td>2024-02-19 09:40:35</td>\n",
       "      <td>прочее</td>\n",
       "    </tr>\n",
       "  </tbody>\n",
       "</table>\n",
       "</div>"
      ],
      "text/plain": [
       "                                      name  isDeleted      createDateTime  \\\n",
       "_id                                                                         \n",
       "63c8d71004a28500ff75d0aa      44 участвуем      False 2023-01-19 12:37:20   \n",
       "63c8d71004a28500ff75d0ab  посмотреть итоги      False 2023-01-19 12:37:20   \n",
       "63c8f53e3e7552dfcf3e9741         нп никита      False 2023-01-19 14:46:06   \n",
       "63c8f7dd63fd9c162e85aacf       стас запрос      False 2023-01-19 14:57:17   \n",
       "63c8fdd804a28500ff75f6a8          44 минус      False 2023-01-19 15:22:48   \n",
       "\n",
       "                              updateDateTime true_name  \n",
       "_id                                                     \n",
       "63c8d71004a28500ff75d0aa 2024-07-19 13:33:14    прочее  \n",
       "63c8d71004a28500ff75d0ab 2024-02-19 11:46:13    прочее  \n",
       "63c8f53e3e7552dfcf3e9741 2025-05-20 12:19:13    прочее  \n",
       "63c8f7dd63fd9c162e85aacf 2024-02-19 09:41:37    прочее  \n",
       "63c8fdd804a28500ff75f6a8 2024-02-19 09:40:35    прочее  "
      ]
     },
     "execution_count": 30,
     "metadata": {},
     "output_type": "execute_result"
    }
   ],
   "source": [
    "df_marks.head()"
   ]
  }
 ],
 "metadata": {
  "kernelspec": {
   "display_name": "Python 3 (ipykernel)",
   "language": "python",
   "name": "python3"
  },
  "language_info": {
   "codemirror_mode": {
    "name": "ipython",
    "version": 3
   },
   "file_extension": ".py",
   "mimetype": "text/x-python",
   "name": "python",
   "nbconvert_exporter": "python",
   "pygments_lexer": "ipython3",
   "version": "3.12.4"
  }
 },
 "nbformat": 4,
 "nbformat_minor": 5
}
