{
 "cells": [
  {
   "cell_type": "markdown",
   "id": "2522ec3d-ffb6-4d89-a754-cc35f97e048e",
   "metadata": {},
   "source": [
    "# Формирования таблицы словаря 'status' для базы данных.\n",
    "\n",
    "### 1. Подготовка"
   ]
  },
  {
   "cell_type": "code",
   "execution_count": 1,
   "id": "bec5b800-ae24-400d-b5bc-f82cc7ae3d00",
   "metadata": {},
   "outputs": [],
   "source": [
    "\n",
    "import time\n",
    "import json\n",
    "import datetime\n",
    "\n",
    "import requests as rq\n",
    "import pandas as pd\n",
    "import numpy as np\n",
    "import tqdm\n",
    "\n",
    "from sqlalchemy import create_engine\n"
   ]
  },
  {
   "cell_type": "markdown",
   "id": "855e6664-99be-4692-8db7-31d7314fdeb4",
   "metadata": {},
   "source": [
    "### 2. Формирование переменных для подключения"
   ]
  },
  {
   "cell_type": "code",
   "execution_count": null,
   "id": "4dd3b1ff-0590-472b-8571-c4d22399601d",
   "metadata": {},
   "outputs": [],
   "source": [
    "\n",
    "TOKEN = 'Bearer '\n",
    "API = '/api/tools/statuses/list'\n",
    "URL = 'https://tenderplan.ru' + API\n",
    "headers = {\n",
    "    'Authorization': TOKEN,\n",
    "    'Accept': 'application/json'\n",
    "}\n",
    "\n",
    "engine_pet = create_engine('mysql+mysqlconnector://'':''@''/tender_project')\n"
   ]
  },
  {
   "cell_type": "markdown",
   "id": "79d96346-3099-40e9-a373-0358953c2a85",
   "metadata": {},
   "source": [
    "### 3. Подключение к API tenderplan"
   ]
  },
  {
   "cell_type": "code",
   "execution_count": 3,
   "id": "41b6b323-eb3c-4e05-8369-b821b2fad532",
   "metadata": {},
   "outputs": [],
   "source": [
    "\n",
    "response_status = rq.get(\n",
    "    URL,\n",
    "    headers = headers\n",
    ").json()\n"
   ]
  },
  {
   "cell_type": "markdown",
   "id": "4f337777-b97e-460b-aa0a-8029ac938dc8",
   "metadata": {},
   "source": [
    "### 4. Формирование DataFrame 'Status' и преобразовываем в нужный вид\n",
    "\n",
    "Формируем DataFrame с columns:\n",
    "- _id - уникальный ключ статуса;\n",
    "- name - наименования статуса;\n",
    "- shortname - краткое наименование;\n",
    "- order - порядок статусов."
   ]
  },
  {
   "cell_type": "code",
   "execution_count": 4,
   "id": "baac1342-6f4e-4327-b220-e82351ecef54",
   "metadata": {},
   "outputs": [],
   "source": [
    "df_status = (\n",
    "    pd.DataFrame(\n",
    "        response_status,\n",
    "        columns = [\n",
    "            '_id',\n",
    "            'name',\n",
    "            'shortName',\n",
    "            'order'\n",
    "        ]\n",
    "    )\n",
    "    .set_index('_id')\n",
    ")"
   ]
  },
  {
   "cell_type": "markdown",
   "id": "71ae3ae6-b2d2-48f6-82d9-7ac5774f1674",
   "metadata": {},
   "source": [
    "### 5. Загружаем данные во временную таблицу 'tmp_dict_status'"
   ]
  },
  {
   "cell_type": "code",
   "execution_count": 5,
   "id": "f6a9fdbc-785d-44cc-9b87-84a6317b0497",
   "metadata": {},
   "outputs": [
    {
     "data": {
      "text/plain": [
       "-1"
      ]
     },
     "execution_count": 5,
     "metadata": {},
     "output_type": "execute_result"
    }
   ],
   "source": [
    "(\n",
    "    df_status\n",
    "    .reset_index()\n",
    "    .to_sql(\n",
    "        'tmp_dict_status', \n",
    "        con = engine_pet, \n",
    "        if_exists = 'replace', \n",
    "        index = False\n",
    "    )\n",
    ")"
   ]
  },
  {
   "cell_type": "code",
   "execution_count": 6,
   "id": "d55cb48a-97f9-474a-b82d-a769b4109ff9",
   "metadata": {},
   "outputs": [
    {
     "name": "stdout",
     "output_type": "stream",
     "text": [
      "                         name        shortName  order\n",
      "_id                                                  \n",
      "1                Прием заявок     Прием заявок      0\n",
      "4         Размещение отменено         Отменено      1\n",
      "5    Размещение не состоялось    Не состоялось      2\n",
      "2             Работа комиссии  Работа комиссии      3\n",
      "3        Размещение завершено        Завершено      4\n"
     ]
    }
   ],
   "source": [
    "\n",
    "print(df_status.head())\n"
   ]
  }
 ],
 "metadata": {
  "kernelspec": {
   "display_name": "Python 3 (ipykernel)",
   "language": "python",
   "name": "python3"
  },
  "language_info": {
   "codemirror_mode": {
    "name": "ipython",
    "version": 3
   },
   "file_extension": ".py",
   "mimetype": "text/x-python",
   "name": "python",
   "nbconvert_exporter": "python",
   "pygments_lexer": "ipython3",
   "version": "3.12.4"
  }
 },
 "nbformat": 4,
 "nbformat_minor": 5
}
