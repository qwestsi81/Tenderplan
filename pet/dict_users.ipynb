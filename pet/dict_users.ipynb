{
 "cells": [
  {
   "cell_type": "markdown",
   "id": "f5199e9f-9747-4ccf-8c9c-1940bfd91cf4",
   "metadata": {},
   "source": [
    "# Формирования таблицы словаря 'Users' для базы данных.\n",
    "\n",
    "### 1. Подготовка"
   ]
  },
  {
   "cell_type": "code",
   "execution_count": 1,
   "id": "bec5b800-ae24-400d-b5bc-f82cc7ae3d00",
   "metadata": {},
   "outputs": [],
   "source": [
    "\n",
    "import time\n",
    "import json\n",
    "import datetime\n",
    "\n",
    "import requests as rq\n",
    "import pandas as pd\n",
    "import numpy as np\n",
    "import tqdm\n",
    "\n",
    "from sqlalchemy import create_engine\n"
   ]
  },
  {
   "cell_type": "markdown",
   "id": "4a07d05f-6918-4667-ab74-cd2fba31dc7c",
   "metadata": {},
   "source": [
    "### 2. Формирование переменных для подключения"
   ]
  },
  {
   "cell_type": "code",
   "execution_count": null,
   "id": "4dd3b1ff-0590-472b-8571-c4d22399601d",
   "metadata": {},
   "outputs": [],
   "source": [
    "\n",
    "KEY = ''\n",
    "TOKEN = 'Bearer ' + KEY\n",
    "API = '/api/users/getall'\n",
    "URL = 'https://tenderplan.ru' + API\n",
    "headers = {\n",
    "    'Authorization': TOKEN,\n",
    "    'Accept': 'application/json'\n",
    "}\n",
    "\n",
    "engine_pet = create_engine('mysql+mysqlconnector://root:''@''/pet_proect')\n"
   ]
  },
  {
   "cell_type": "markdown",
   "id": "d25f1f93-e431-49df-a8e1-be17ab7b83fc",
   "metadata": {},
   "source": [
    "### 3. Подключение к API tenderplan"
   ]
  },
  {
   "cell_type": "code",
   "execution_count": 3,
   "id": "41b6b323-eb3c-4e05-8369-b821b2fad532",
   "metadata": {},
   "outputs": [],
   "source": [
    "\n",
    "response_users = rq.get(\n",
    "    URL,\n",
    "    headers = headers\n",
    ").json()\n"
   ]
  },
  {
   "cell_type": "markdown",
   "id": "9ceae5f9-6e35-4ebd-a162-0b63fe84e992",
   "metadata": {},
   "source": [
    "### 4. Формируем функцию для преобразования UNIX-времени в правильный формат datetime"
   ]
  },
  {
   "cell_type": "code",
   "execution_count": 4,
   "id": "8a53ed8d-74ef-4bd8-a9b7-8fdc43da8212",
   "metadata": {},
   "outputs": [],
   "source": [
    "\n",
    "def f_date_fr_time(date_):\n",
    "    '''Принимает UNIX-время и возвращате дату в формате datetime'''\n",
    "    return datetime.datetime.fromtimestamp(date_//1000)\n",
    "        "
   ]
  },
  {
   "cell_type": "markdown",
   "id": "8540f2d7-af14-4a55-bff3-27907c6b927e",
   "metadata": {},
   "source": [
    "### 5. Формирование DataFrame 'Users' и преобразовываем в нужный вид\n",
    "\n",
    "Формируем DataFrame с columns:\n",
    "- _id - уникальный ключ сотрудников компании;\n",
    "- email - почта сотрудников компании;\n",
    "- phoneNumber - телефон сотрудников компании;\n",
    "- displayName - ФИО сотрудников компании;\n",
    "- firmId - id компании;\n",
    "- createDateTime - дата заведения сотрудника (формат UNXI-время);\n",
    "- isDeleted - удален ли сотрудник из базы.\n"
   ]
  },
  {
   "cell_type": "code",
   "execution_count": 5,
   "id": "baac1342-6f4e-4327-b220-e82351ecef54",
   "metadata": {},
   "outputs": [],
   "source": [
    "\n",
    "df_users = (\n",
    "    pd.DataFrame(\n",
    "        response_users,\n",
    "        columns = [\n",
    "            '_id',\n",
    "            'email',\n",
    "            'phoneNumber',\n",
    "            'displayName',\n",
    "            'firmId',\n",
    "            'createDateTime',\n",
    "            'isDeleted'\n",
    "        ]\n",
    "    )\n",
    "    .set_index('_id')\n",
    ")\n",
    "\n",
    "df_users = df_users.assign(\n",
    "    **{\n",
    "        'createDateTime': df_users['createDateTime'].map(f_date_fr_time),\n",
    "        'phoneNumber': df_users['phoneNumber'].fillna(np.nan).astype(np.float32)\n",
    "    }\n",
    ")\n",
    "\n"
   ]
  },
  {
   "cell_type": "markdown",
   "id": "54e17e28-e32b-405e-bed6-ed87c29bd5a9",
   "metadata": {},
   "source": [
    "### 6. Загружаем данные во временную таблицу 'tmp_dict_users'"
   ]
  },
  {
   "cell_type": "code",
   "execution_count": 6,
   "id": "f6a9fdbc-785d-44cc-9b87-84a6317b0497",
   "metadata": {},
   "outputs": [
    {
     "data": {
      "text/plain": [
       "-1"
      ]
     },
     "execution_count": 6,
     "metadata": {},
     "output_type": "execute_result"
    }
   ],
   "source": [
    "\n",
    "(\n",
    "    df_users\n",
    "    .reset_index()\n",
    "    .to_sql(\n",
    "        'tmp_dict_users', \n",
    "        con = engine_pet, \n",
    "        if_exists = 'replace', \n",
    "        index = False\n",
    "    )\n",
    ")\n"
   ]
  },
  {
   "cell_type": "code",
   "execution_count": 7,
   "id": "dd340dd3-b889-461e-a0f1-b876e901fd15",
   "metadata": {},
   "outputs": [
    {
     "name": "stdout",
     "output_type": "stream",
     "text": []
    }
   ],
   "source": [
    "\n",
    "print(df_users.head())\n"
   ]
  }
 ],
 "metadata": {
  "kernelspec": {
   "display_name": "Python 3 (ipykernel)",
   "language": "python",
   "name": "python3"
  },
  "language_info": {
   "codemirror_mode": {
    "name": "ipython",
    "version": 3
   },
   "file_extension": ".py",
   "mimetype": "text/x-python",
   "name": "python",
   "nbconvert_exporter": "python",
   "pygments_lexer": "ipython3",
   "version": "3.12.4"
  }
 },
 "nbformat": 4,
 "nbformat_minor": 5
}
