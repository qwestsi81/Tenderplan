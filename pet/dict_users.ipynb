{
 "cells": [
  {
   "cell_type": "markdown",
   "id": "f5199e9f-9747-4ccf-8c9c-1940bfd91cf4",
   "metadata": {},
   "source": [
    "# Формирование таблицы словаря 'Users' для базы данных.\n",
    "\n",
    "### 1. Подготовка"
   ]
  },
  {
   "cell_type": "code",
   "execution_count": null,
   "id": "bec5b800-ae24-400d-b5bc-f82cc7ae3d00",
   "metadata": {},
   "outputs": [],
   "source": [
    "\n",
    "import os\n",
    "import time\n",
    "import json\n",
    "import datetime\n",
    "\n",
    "import requests as rq\n",
    "import pandas as pd\n",
    "import numpy as np\n",
    "import tqdm\n",
    "\n",
    "from sqlalchemy import create_engine\n"
   ]
  },
  {
   "cell_type": "markdown",
   "id": "4a07d05f-6918-4667-ab74-cd2fba31dc7c",
   "metadata": {},
   "source": [
    "### 2. Формирование переменных для подключения"
   ]
  },
  {
   "cell_type": "code",
   "execution_count": null,
   "id": "4dd3b1ff-0590-472b-8571-c4d22399601d",
   "metadata": {},
   "outputs": [],
   "source": [
    "\n",
    "KEY = ''\n",
    "TOKEN = 'Bearer ' + KEY\n",
    "API = '/api/users/getall'\n",
    "URL = 'https://tenderplan.ru' + API\n",
    "headers = {\n",
    "    'Authorization': TOKEN,\n",
    "    'Accept': 'application/json'\n",
    "}\n",
    "\n",
    "engine_pet = create_engine('mysql+mysqlconnector://root:''@''/pet_proect')\n"
   ]
  },
  {
   "cell_type": "markdown",
   "id": "d25f1f93-e431-49df-a8e1-be17ab7b83fc",
   "metadata": {},
   "source": [
    "### 3. Подключение к API tenderplan"
   ]
  },
  {
   "cell_type": "code",
   "execution_count": 64,
   "id": "41b6b323-eb3c-4e05-8369-b821b2fad532",
   "metadata": {},
   "outputs": [],
   "source": [
    "\n",
    "response_users = rq.get(\n",
    "    URL,\n",
    "    headers = headers\n",
    ").json()\n"
   ]
  },
  {
   "cell_type": "markdown",
   "id": "9ceae5f9-6e35-4ebd-a162-0b63fe84e992",
   "metadata": {},
   "source": [
    "### 4. Формируем функцию для преобразования UNIX-времени в правильный формат datetime"
   ]
  },
  {
   "cell_type": "code",
   "execution_count": 56,
   "id": "8a53ed8d-74ef-4bd8-a9b7-8fdc43da8212",
   "metadata": {},
   "outputs": [],
   "source": [
    "\n",
    "if __name__ == '__main__':\n",
    "    def f_date_fr_time(date_):\n",
    "        '''Принимает UNIX-время и возвращате дату в формате datetime'''\n",
    "        return datetime.datetime.fromtimestamp(date_//1000)\n",
    "        "
   ]
  },
  {
   "cell_type": "markdown",
   "id": "8540f2d7-af14-4a55-bff3-27907c6b927e",
   "metadata": {},
   "source": [
    "### 5. Формирование DataFrame 'Users' и преобразовываем в нужный вид\n",
    "\n",
    "Формируем DataFrame с columns:\n",
    "- _id - уникальный ключ сотрудников компании;\n",
    "- email - почта сотрудников компании;\n",
    "- phoneNumber - телефон сотрудников компании;\n",
    "- displayName - ФИО сотрудников компании;\n",
    "- firmId - id компании;\n",
    "- createDateTime - дата заведения сотрудника (формат UNXI-время);\n",
    "- isDeleted - удален ли сотрудник из базы.\n"
   ]
  },
  {
   "cell_type": "code",
   "execution_count": 66,
   "id": "baac1342-6f4e-4327-b220-e82351ecef54",
   "metadata": {},
   "outputs": [],
   "source": [
    "\n",
    "df_users = (\n",
    "    pd.DataFrame(\n",
    "        response_users,\n",
    "        columns = [\n",
    "            '_id',\n",
    "            'email',\n",
    "            'phoneNumber',\n",
    "            'displayName',\n",
    "            'firmId',\n",
    "            'createDateTime',\n",
    "            'isDeleted'\n",
    "        ]\n",
    "    )\n",
    "    .set_index('_id')\n",
    ")\n",
    "\n",
    "df_users = df_users.assign(\n",
    "    **{\n",
    "        'createDateTime': df_users['createDateTime'].map(f_date_fr_time),\n",
    "        'phoneNumber': df_users['phoneNumber'].fillna(np.nan).astype(np.float32)\n",
    "    }\n",
    ")\n",
    "\n"
   ]
  },
  {
   "cell_type": "markdown",
   "id": "54e17e28-e32b-405e-bed6-ed87c29bd5a9",
   "metadata": {},
   "source": [
    "### 6. Загружаем данные во временную таблицу 'tmp_dict_users'"
   ]
  },
  {
   "cell_type": "code",
   "execution_count": 40,
   "id": "f6a9fdbc-785d-44cc-9b87-84a6317b0497",
   "metadata": {},
   "outputs": [
    {
     "data": {
      "text/plain": [
       "-1"
      ]
     },
     "execution_count": 40,
     "metadata": {},
     "output_type": "execute_result"
    }
   ],
   "source": [
    "\n",
    "(\n",
    "    df_users\n",
    "    .reset_index()\n",
    "    .to_sql(\n",
    "        'tmp_dict_users', \n",
    "        con = engine_pet, \n",
    "        if_exists = 'replace', \n",
    "        index = False\n",
    "    )\n",
    ")\n"
   ]
  },
  {
   "cell_type": "code",
   "execution_count": 65,
   "id": "dd340dd3-b889-461e-a0f1-b876e901fd15",
   "metadata": {},
   "outputs": [
    {
     "data": {
      "text/html": [
       "<div>\n",
       "<style scoped>\n",
       "    .dataframe tbody tr th:only-of-type {\n",
       "        vertical-align: middle;\n",
       "    }\n",
       "\n",
       "    .dataframe tbody tr th {\n",
       "        vertical-align: top;\n",
       "    }\n",
       "\n",
       "    .dataframe thead th {\n",
       "        text-align: right;\n",
       "    }\n",
       "</style>\n",
       "<table border=\"1\" class=\"dataframe\">\n",
       "  <thead>\n",
       "    <tr style=\"text-align: right;\">\n",
       "      <th></th>\n",
       "      <th>email</th>\n",
       "      <th>phoneNumber</th>\n",
       "      <th>displayName</th>\n",
       "      <th>firmId</th>\n",
       "      <th>createDateTime</th>\n",
       "      <th>isDeleted</th>\n",
       "    </tr>\n",
       "    <tr>\n",
       "      <th>_id</th>\n",
       "      <th></th>\n",
       "      <th></th>\n",
       "      <th></th>\n",
       "      <th></th>\n",
       "      <th></th>\n",
       "      <th></th>\n",
       "    </tr>\n",
       "  </thead>\n",
       "  <tbody>\n",
       "    <tr>\n",
       "      <th>63c8d71004a28500ff75d0a8</th>\n",
       "      <td>office@energotrade42.ru</td>\n",
       "      <td>8.906985e+10</td>\n",
       "      <td>Осадчий Никита</td>\n",
       "      <td>63c8d71004a28500ff75d0a7</td>\n",
       "      <td>2023-01-19 12:37:20</td>\n",
       "      <td>False</td>\n",
       "    </tr>\n",
       "    <tr>\n",
       "      <th>63c8e6c304a28500ff75e609</th>\n",
       "      <td>s.chernousov@energotrade42.ru</td>\n",
       "      <td>8.995126e+10</td>\n",
       "      <td>Станислав Черноусов</td>\n",
       "      <td>63c8d71004a28500ff75d0a7</td>\n",
       "      <td>2023-01-19 13:44:19</td>\n",
       "      <td>False</td>\n",
       "    </tr>\n",
       "    <tr>\n",
       "      <th>64631f682a48ecc1d1e4f25d</th>\n",
       "      <td>img@energotrade42.ru</td>\n",
       "      <td>NaN</td>\n",
       "      <td>Марк Иванов</td>\n",
       "      <td>63c8d71004a28500ff75d0a7</td>\n",
       "      <td>2023-05-16 13:15:04</td>\n",
       "      <td>False</td>\n",
       "    </tr>\n",
       "    <tr>\n",
       "      <th>6474472b726fb3576edb9811</th>\n",
       "      <td>ikt@energotrade42.ru</td>\n",
       "      <td>NaN</td>\n",
       "      <td>Кира Ибрагимова</td>\n",
       "      <td>63c8d71004a28500ff75d0a7</td>\n",
       "      <td>2023-05-29 13:33:15</td>\n",
       "      <td>False</td>\n",
       "    </tr>\n",
       "    <tr>\n",
       "      <th>64906d2e7a3fac2f79cd95e0</th>\n",
       "      <td>shin-prof@yandex.ru</td>\n",
       "      <td>NaN</td>\n",
       "      <td>Шинпроф</td>\n",
       "      <td>63c8d71004a28500ff75d0a7</td>\n",
       "      <td>2023-06-19 21:58:54</td>\n",
       "      <td>True</td>\n",
       "    </tr>\n",
       "  </tbody>\n",
       "</table>\n",
       "</div>"
      ],
      "text/plain": [
       "                                                  email   phoneNumber  \\\n",
       "_id                                                                     \n",
       "63c8d71004a28500ff75d0a8        office@energotrade42.ru  8.906985e+10   \n",
       "63c8e6c304a28500ff75e609  s.chernousov@energotrade42.ru  8.995126e+10   \n",
       "64631f682a48ecc1d1e4f25d           img@energotrade42.ru           NaN   \n",
       "6474472b726fb3576edb9811           ikt@energotrade42.ru           NaN   \n",
       "64906d2e7a3fac2f79cd95e0            shin-prof@yandex.ru           NaN   \n",
       "\n",
       "                                  displayName                    firmId  \\\n",
       "_id                                                                       \n",
       "63c8d71004a28500ff75d0a8       Осадчий Никита  63c8d71004a28500ff75d0a7   \n",
       "63c8e6c304a28500ff75e609  Станислав Черноусов  63c8d71004a28500ff75d0a7   \n",
       "64631f682a48ecc1d1e4f25d          Марк Иванов  63c8d71004a28500ff75d0a7   \n",
       "6474472b726fb3576edb9811      Кира Ибрагимова  63c8d71004a28500ff75d0a7   \n",
       "64906d2e7a3fac2f79cd95e0              Шинпроф  63c8d71004a28500ff75d0a7   \n",
       "\n",
       "                              createDateTime  isDeleted  \n",
       "_id                                                      \n",
       "63c8d71004a28500ff75d0a8 2023-01-19 12:37:20      False  \n",
       "63c8e6c304a28500ff75e609 2023-01-19 13:44:19      False  \n",
       "64631f682a48ecc1d1e4f25d 2023-05-16 13:15:04      False  \n",
       "6474472b726fb3576edb9811 2023-05-29 13:33:15      False  \n",
       "64906d2e7a3fac2f79cd95e0 2023-06-19 21:58:54       True  "
      ]
     },
     "execution_count": 65,
     "metadata": {},
     "output_type": "execute_result"
    }
   ],
   "source": [
    "df_users.head()"
   ]
  }
 ],
 "metadata": {
  "kernelspec": {
   "display_name": "Python 3 (ipykernel)",
   "language": "python",
   "name": "python3"
  },
  "language_info": {
   "codemirror_mode": {
    "name": "ipython",
    "version": 3
   },
   "file_extension": ".py",
   "mimetype": "text/x-python",
   "name": "python",
   "nbconvert_exporter": "python",
   "pygments_lexer": "ipython3",
   "version": "3.12.4"
  }
 },
 "nbformat": 4,
 "nbformat_minor": 5
}
