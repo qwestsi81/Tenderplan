{
 "cells": [
  {
   "cell_type": "markdown",
   "id": "9578b63d-4ed9-4ace-b766-8bdbd690ed6d",
   "metadata": {},
   "source": [
    "# Формирования таблицы словаря 'placingways' для базы данных.\n",
    "\n",
    "### 1. Подготовка"
   ]
  },
  {
   "cell_type": "code",
   "execution_count": 2,
   "id": "bec5b800-ae24-400d-b5bc-f82cc7ae3d00",
   "metadata": {},
   "outputs": [],
   "source": [
    "\n",
    "import time\n",
    "import json\n",
    "import datetime\n",
    "\n",
    "import requests as rq\n",
    "import pandas as pd\n",
    "import numpy as np\n",
    "import tqdm\n",
    "\n",
    "from sqlalchemy import create_engine\n"
   ]
  },
  {
   "cell_type": "markdown",
   "id": "a54c9f92-23d6-47b1-8355-a8582f01075a",
   "metadata": {},
   "source": [
    "### 2. Формирование переменных для подключения"
   ]
  },
  {
   "cell_type": "code",
   "execution_count": null,
   "id": "4dd3b1ff-0590-472b-8571-c4d22399601d",
   "metadata": {},
   "outputs": [],
   "source": [
    "\n",
    "TOKEN = 'Bearer '\n",
    "API = '/api/tools/placingways/list'\n",
    "URL = 'https://tenderplan.ru' + API\n",
    "headers = {\n",
    "    'Authorization': TOKEN,\n",
    "    'Accept': 'application/json'\n",
    "}\n",
    "\n",
    "engine_pet = create_engine('mysql+mysqlconnector://'':''@''/tender_project')\n"
   ]
  },
  {
   "cell_type": "markdown",
   "id": "1a0a6d67-d971-4ad9-bd76-5771e60409b7",
   "metadata": {},
   "source": [
    "### 3. Подключение к API tenderplan"
   ]
  },
  {
   "cell_type": "code",
   "execution_count": 7,
   "id": "41b6b323-eb3c-4e05-8369-b821b2fad532",
   "metadata": {},
   "outputs": [],
   "source": [
    "\n",
    "response_placingways = rq.get(\n",
    "    URL,\n",
    "    headers = headers\n",
    ").json()\n"
   ]
  },
  {
   "cell_type": "markdown",
   "id": "e3b452f7-74d6-4999-9eee-301c4a73ffb7",
   "metadata": {},
   "source": [
    "### 4. Формирование DataFrame 'placingways' и преобразовываем в нужный вид\n",
    "\n",
    "Формируем DataFrame с columns:\n",
    "- _id - уникальный ключ;\n",
    "- name - наименование;\n",
    "- shortName - краткое наименование."
   ]
  },
  {
   "cell_type": "code",
   "execution_count": 8,
   "id": "baac1342-6f4e-4327-b220-e82351ecef54",
   "metadata": {},
   "outputs": [],
   "source": [
    "\n",
    "df_placingways = (\n",
    "    pd.DataFrame(\n",
    "        response_placingways,\n",
    "        columns = [\n",
    "            '_id',\n",
    "            'name',\n",
    "            'shortName'\n",
    "        ]\n",
    "    )\n",
    "    .set_index('_id')\n",
    ")\n"
   ]
  },
  {
   "cell_type": "markdown",
   "id": "8516e328-223b-491b-a7d4-327133890bf2",
   "metadata": {},
   "source": [
    "### 5. Загружаем данные во временную таблицу 'tmp_dict_mplacingways'"
   ]
  },
  {
   "cell_type": "code",
   "execution_count": 10,
   "id": "f6a9fdbc-785d-44cc-9b87-84a6317b0497",
   "metadata": {},
   "outputs": [
    {
     "data": {
      "text/plain": [
       "-1"
      ]
     },
     "execution_count": 10,
     "metadata": {},
     "output_type": "execute_result"
    }
   ],
   "source": [
    "(\n",
    "    df_placingways\n",
    "    .reset_index()\n",
    "    .to_sql(\n",
    "        'tmp_dict_placingways', \n",
    "        con = engine_pet, \n",
    "        if_exists = 'replace', \n",
    "        index = False\n",
    "    )\n",
    ")"
   ]
  },
  {
   "cell_type": "code",
   "execution_count": 11,
   "id": "1980fc3e-a631-4fde-8092-8afb5a6425b7",
   "metadata": {},
   "outputs": [
    {
     "data": {
      "text/html": [
       "<div>\n",
       "<style scoped>\n",
       "    .dataframe tbody tr th:only-of-type {\n",
       "        vertical-align: middle;\n",
       "    }\n",
       "\n",
       "    .dataframe tbody tr th {\n",
       "        vertical-align: top;\n",
       "    }\n",
       "\n",
       "    .dataframe thead th {\n",
       "        text-align: right;\n",
       "    }\n",
       "</style>\n",
       "<table border=\"1\" class=\"dataframe\">\n",
       "  <thead>\n",
       "    <tr style=\"text-align: right;\">\n",
       "      <th></th>\n",
       "      <th>name</th>\n",
       "      <th>shortName</th>\n",
       "    </tr>\n",
       "    <tr>\n",
       "      <th>_id</th>\n",
       "      <th></th>\n",
       "      <th></th>\n",
       "    </tr>\n",
       "  </thead>\n",
       "  <tbody>\n",
       "    <tr>\n",
       "      <th>0</th>\n",
       "      <td>Иной способ</td>\n",
       "      <td>ИС</td>\n",
       "    </tr>\n",
       "    <tr>\n",
       "      <th>1</th>\n",
       "      <td>Открытый конкурс</td>\n",
       "      <td>ОК</td>\n",
       "    </tr>\n",
       "    <tr>\n",
       "      <th>2</th>\n",
       "      <td>Открытый аукцион</td>\n",
       "      <td>ОА</td>\n",
       "    </tr>\n",
       "    <tr>\n",
       "      <th>3</th>\n",
       "      <td>Открытый аукцион в электронной форме</td>\n",
       "      <td>ЭФ</td>\n",
       "    </tr>\n",
       "    <tr>\n",
       "      <th>4</th>\n",
       "      <td>Запрос котировок</td>\n",
       "      <td>ЗК</td>\n",
       "    </tr>\n",
       "  </tbody>\n",
       "</table>\n",
       "</div>"
      ],
      "text/plain": [
       "                                     name shortName\n",
       "_id                                                \n",
       "0                             Иной способ        ИС\n",
       "1                        Открытый конкурс        ОК\n",
       "2                        Открытый аукцион        ОА\n",
       "3    Открытый аукцион в электронной форме        ЭФ\n",
       "4                        Запрос котировок        ЗК"
      ]
     },
     "execution_count": 11,
     "metadata": {},
     "output_type": "execute_result"
    }
   ],
   "source": [
    "\n",
    "print(df_placingways.head())\n"
   ]
  }
 ],
 "metadata": {
  "kernelspec": {
   "display_name": "Python 3 (ipykernel)",
   "language": "python",
   "name": "python3"
  },
  "language_info": {
   "codemirror_mode": {
    "name": "ipython",
    "version": 3
   },
   "file_extension": ".py",
   "mimetype": "text/x-python",
   "name": "python",
   "nbconvert_exporter": "python",
   "pygments_lexer": "ipython3",
   "version": "3.12.4"
  }
 },
 "nbformat": 4,
 "nbformat_minor": 5
}
