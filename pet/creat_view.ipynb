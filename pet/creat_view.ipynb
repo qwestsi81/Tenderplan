{
 "cells": [
  {
   "cell_type": "markdown",
   "id": "1a113cf2-af7c-4aeb-88b2-6d5a6bef3f0c",
   "metadata": {},
   "source": [
    "# Создание представлений данных\n",
    "\n",
    "### 1. Подготовка"
   ]
  },
  {
   "cell_type": "code",
   "execution_count": 1,
   "id": "6df2269e-da7a-45d2-ba3f-58c17c1dc19d",
   "metadata": {},
   "outputs": [],
   "source": [
    "\n",
    "import time\n",
    "import mysql.connector as mysql\n"
   ]
  },
  {
   "cell_type": "markdown",
   "id": "adda65f5-3343-4449-a99a-a99604c673a8",
   "metadata": {},
   "source": [
    "### 2. Создание функции для БД"
   ]
  },
  {
   "cell_type": "code",
   "execution_count": null,
   "id": "b36a5fd3-b88b-4361-8fde-82688d9ddc35",
   "metadata": {},
   "outputs": [],
   "source": [
    "def alter_incert_db(\n",
    "    sql_query,\n",
    "    host_ = '', \n",
    "    user_ = '', \n",
    "    password_ = '',\n",
    "    database_ = 'pet_proect'\n",
    "):\n",
    "    '''Функция для создания объектов в БД имеет следующие параметры:\n",
    "        sql_query - sql запрос;\n",
    "        host- хост БД (данные по-умолчанию);\n",
    "        user - логин БД (данные по-умолчанию);\n",
    "        password - пароль (данные по-умолчанию);\n",
    "        database - имя (данные по-умолчанию).'''\n",
    "    try:\n",
    "        with mysql.connect(\n",
    "            host = host_,\n",
    "            user = user_,\n",
    "            password = password_,\n",
    "            database = database_\n",
    "        ) as connection_pet:\n",
    "            with connection_pet.cursor() as cursor_pet:\n",
    "                cursor_pet.execute(sql_query)\n",
    "                connection_pet.commit()\n",
    "                print(connection_pet)\n",
    "    except mysql.Error as e:\n",
    "        print(e)"
   ]
  },
  {
   "cell_type": "markdown",
   "id": "932c7331-31dd-4f0e-8f19-df536fe1af34",
   "metadata": {},
   "source": [
    "### 3. SQL запросы для создания представлений данных"
   ]
  },
  {
   "cell_type": "code",
   "execution_count": 3,
   "id": "0f5a033b-a40b-4550-bed8-08fb1efa293f",
   "metadata": {},
   "outputs": [],
   "source": [
    "'''   Блок написания переменных со скриптами SQL   '''\n",
    "\n",
    "create_view_dict_tenders = \"\"\"\n",
    "    CREATE OR REPLACE VIEW v_dict_tenders AS\n",
    "    WITH join_tru_marks AS(\n",
    "    \tSELECT \n",
    "    \t\tDISTINCT mu.`_id`, \n",
    "    \t\tFIRST_VALUE(dm.`_id`) OVER (PARTITION BY mu.`_id` ORDER BY dm.`true_name` ASC) AS marks_id\n",
    "    \tFROM marks_users mu JOIN dict_marks dm \n",
    "    \tON mu.marks = dm.`_id`\n",
    "    ),\n",
    "    join_tru_users AS(\n",
    "    \tSELECT \n",
    "    \t\tDISTINCT mu.`_id`,\n",
    "    \t\tFIRST_VALUE(du.`_id`) OVER (PARTITION BY mu.`_id` ORDER BY du.`_id` ASC) AS users_id\n",
    "    \tFROM marks_users mu JOIN dict_users du \n",
    "    \tON mu.users = du.`_id`\n",
    "    ),\n",
    "    return_ AS(\n",
    "    \tSELECT dt.*,  mk.marks_id, us.users_id\n",
    "    \tFROM pet_proect.dict_tenders dt \n",
    "    \tJOIN join_tru_marks mk ON mk.`_id` = dt.`_id`\n",
    "    \tJOIN join_tru_users us ON us.`_id` = dt.`_id`  \n",
    "    )\n",
    "    SELECT * FROM return_;\n",
    "\"\"\"\n",
    "create_view_dict_marks = \"\"\"\n",
    "    CREATE OR REPLACE VIEW v_dict_marks AS\n",
    "    SELECT * FROM dict_marks dm;\n",
    "\"\"\"\n",
    "\n",
    "create_view_dict_users = \"\"\"\n",
    "    CREATE OR REPLACE VIEW v_dict_users AS\n",
    "    SELECT * FROM dict_users du;\n",
    "\"\"\"\n",
    "\n",
    "create_view_dict_region = \"\"\"\n",
    "    CREATE OR REPLACE VIEW v_dict_region AS\n",
    "    SELECT * FROM dict_region du;\n",
    "\"\"\"\n",
    "\n",
    "create_view_dict_status = \"\"\"\n",
    "    CREATE OR REPLACE VIEW v_dict_status AS\n",
    "    SELECT * FROM dict_status du;\n",
    "\"\"\"\n",
    "\n",
    "create_view_dict_placingways = \"\"\"\n",
    "    CREATE OR REPLACE VIEW v_dict_placingways AS\n",
    "    SELECT * FROM dict_placingways du;\n",
    "\"\"\"\n",
    "\n",
    "create_view_participants = \"\"\"\n",
    "    CREATE OR REPLACE VIEW v_participants AS\n",
    "    SELECT ps.* FROM participants ps\n",
    "    LEFT JOIN v_dict_tenders v\n",
    "    ON ps.`_id` = v.`_id` \n",
    "    WHERE NOT v.`_id` IS NULL;\n",
    "\"\"\"\n",
    "\n",
    "create_view_products = \"\"\"\n",
    "    CREATE OR REPLACE VIEW v_products AS\n",
    "    SELECT ps.* FROM products ps\n",
    "    LEFT JOIN v_dict_tenders v\n",
    "    ON ps.`_id` = v.`_id` \n",
    "    WHERE NOT v.`_id` IS NULL;\n",
    "\"\"\"\n"
   ]
  },
  {
   "cell_type": "markdown",
   "id": "08eaaeea-6eb4-4253-816b-4bc884ed3062",
   "metadata": {},
   "source": [
    "### 4. Переменная со списком sql запросов"
   ]
  },
  {
   "cell_type": "code",
   "execution_count": 4,
   "id": "96a1050c-1542-40a6-9c17-0c719dbd6499",
   "metadata": {},
   "outputs": [],
   "source": [
    "lst_sql = [\n",
    "    create_view_dict_tenders,\n",
    "    create_view_dict_marks,\n",
    "    create_view_dict_users,\n",
    "    create_view_dict_region,\n",
    "    create_view_dict_status,\n",
    "    create_view_dict_placingways,\n",
    "    create_view_participants,\n",
    "    create_view_products\n",
    "]"
   ]
  },
  {
   "cell_type": "markdown",
   "id": "dfb304ee-8c6e-4b3e-8e0d-0d1e4e7d42bd",
   "metadata": {},
   "source": [
    "### 5. Цикл создания представлений данных (транзакции на каждый запрос)"
   ]
  },
  {
   "cell_type": "code",
   "execution_count": 5,
   "id": "be8d51d7-f134-4383-8f1e-2b0da23ea531",
   "metadata": {},
   "outputs": [
    {
     "name": "stdout",
     "output_type": "stream",
     "text": [
      "<mysql.connector.connection.MySQLConnection object at 0x0000022D73968E60>\n",
      "<mysql.connector.connection.MySQLConnection object at 0x0000022D71E4CF80>\n",
      "<mysql.connector.connection.MySQLConnection object at 0x0000022D734AF2F0>\n",
      "<mysql.connector.connection.MySQLConnection object at 0x0000022D7385B860>\n",
      "<mysql.connector.connection.MySQLConnection object at 0x0000022D73533E30>\n",
      "<mysql.connector.connection.MySQLConnection object at 0x0000022D7380C530>\n",
      "<mysql.connector.connection.MySQLConnection object at 0x0000022D71EBCF20>\n",
      "<mysql.connector.connection.MySQLConnection object at 0x0000022D734AF2F0>\n"
     ]
    }
   ],
   "source": [
    "for x in lst_sql:\n",
    "    alter_incert_db(x)\n",
    "    time.sleep(1)"
   ]
  }
 ],
 "metadata": {
  "kernelspec": {
   "display_name": "Python 3 (ipykernel)",
   "language": "python",
   "name": "python3"
  },
  "language_info": {
   "codemirror_mode": {
    "name": "ipython",
    "version": 3
   },
   "file_extension": ".py",
   "mimetype": "text/x-python",
   "name": "python",
   "nbconvert_exporter": "python",
   "pygments_lexer": "ipython3",
   "version": "3.12.4"
  }
 },
 "nbformat": 4,
 "nbformat_minor": 5
}
