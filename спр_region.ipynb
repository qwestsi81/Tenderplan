{
 "cells": [
  {
   "cell_type": "markdown",
   "id": "9e616b3e-c2e6-402a-a699-666baa4408ad",
   "metadata": {},
   "source": [
    "# Формирования таблицы словаря 'region' для базы данных.\n",
    "\n",
    "### 1. Подготовка"
   ]
  },
  {
   "cell_type": "code",
   "execution_count": null,
   "id": "db8deddb-4960-44eb-94a2-d6c010d8061e",
   "metadata": {},
   "outputs": [],
   "source": [
    "\n",
    "import os\n",
    "import time\n",
    "import json\n",
    "import datetime\n",
    "\n",
    "import requests as rq\n",
    "import pandas as pd\n",
    "import numpy as np\n",
    "import tqdm\n",
    "\n",
    "from sqlalchemy import create_engine\n",
    "from bs4 import BeautifulSoup as bs\n",
    "import sys\n",
    "\n",
    "engine_pet = create_engine('mysql+mysqlconnector://root:''@''/pet_proect')\n"
   ]
  },
  {
   "cell_type": "markdown",
   "id": "7341e08e-63de-46ee-a4b8-e52070d12ed6",
   "metadata": {},
   "source": [
    "### 2. Формирование переменных для подключения\n",
    "\n",
    "Справочник было принято взять из википедии"
   ]
  },
  {
   "cell_type": "code",
   "execution_count": 38,
   "id": "76011f68-3ad6-4580-97ac-4d23e157813b",
   "metadata": {},
   "outputs": [],
   "source": [
    "\n",
    "URL = 'https://ru.wikipedia.org/wiki/%D0%9A%D0%BE%D0%B4%D1%8B_%D1%81%D1%83%D0%B1%D1%8A%D0%B5%D0%BA%\\\n",
    "D1%82%D0%BE%D0%B2_%D0%A0%D0%BE%D1%81%D1%81%D0%B8%D0%B9%D1%81%D0%BA%D0%BE%D0%B9_%D0%A4%D0%B5%D0%B4%D0%B5%D1%\\\n",
    "80%D0%B0%D1%86%D0%B8%D0%B8'\n",
    "\n",
    "headers = {\n",
    "    \"User-Agent\": 'Mozilla/5.0 (Windows NT 10.0; Win64; x64) AppleWebKit/537.36 \\\n",
    "    (KHTML, like Gecko) Chrome/141.0.0.0 Safari/537.36'\n",
    "}\n",
    "response_region = rq.get(\n",
    "    URL,\n",
    "    headers = headers\n",
    ")"
   ]
  },
  {
   "cell_type": "markdown",
   "id": "bc29cd98-a832-4cbd-8399-17ab251ec16b",
   "metadata": {},
   "source": [
    "### 3. данные были в теге <'tbody'>"
   ]
  },
  {
   "cell_type": "code",
   "execution_count": 56,
   "id": "a787828f-2557-403a-904f-fbb055ca5d4c",
   "metadata": {},
   "outputs": [],
   "source": [
    "\n",
    "soup_region = (\n",
    "    bs(response_region.text, 'html.parser')\n",
    "        .find('tbody')\n",
    ")\n"
   ]
  },
  {
   "cell_type": "markdown",
   "id": "709287a1-1cce-45e9-87cf-742e4df5b86e",
   "metadata": {},
   "source": [
    "### 4. Были спарсены данные заголовков таблицы, но в дальнейшем было принято решение переименовать данные"
   ]
  },
  {
   "cell_type": "code",
   "execution_count": 54,
   "id": "9830a33d-fb79-49e9-bd0a-4ad406340752",
   "metadata": {},
   "outputs": [],
   "source": [
    "\n",
    "l_columns = []\n",
    "\n",
    "for x in soup_region.find_all('th'):\n",
    "    l_columns.append(\n",
    "        ''.join([y.string.strip(' \\n') for y in x if y.string is not None]) \n",
    "    )\n",
    "    \n",
    "l_columns =[\n",
    "    'Name',\n",
    "    '_id',\n",
    "    'OKATO',\n",
    "    'ISO',\n",
    "    'GOST'\n",
    "]\n"
   ]
  },
  {
   "cell_type": "markdown",
   "id": "831fa1ec-77cc-45c6-9dd1-0a8d0eca4ad8",
   "metadata": {},
   "source": [
    "### 5. Тело таблицы "
   ]
  },
  {
   "cell_type": "code",
   "execution_count": 55,
   "id": "7f479ed9-202a-44dc-8525-bc1122ac354a",
   "metadata": {},
   "outputs": [],
   "source": [
    "\n",
    "l_body = []\n",
    "\n",
    "for x in soup_region.find_all('tr'):\n",
    "    l_body_x = []\n",
    "    for y in x.find_all('td'):\n",
    "        l_body_x.append(\n",
    "            ''.join(\n",
    "                [(\n",
    "                    z\n",
    "                    .string\n",
    "                    .strip(' \\n')\n",
    "                    .removeprefix('Оккупационная администрация ')\n",
    "                ) for z in y if z.string is not None]\n",
    "            )\n",
    "        )\n",
    "    l_body.append(l_body_x)\n",
    "    \n",
    "del l_body_x\n"
   ]
  },
  {
   "cell_type": "markdown",
   "id": "f3c099e9-d32e-4c8a-8341-93b31b15362e",
   "metadata": {},
   "source": [
    "### 6. Формирование DataFrame region\n",
    "На один регион может быть несколько значений кода региона, в связи с этим текстовые значения были преобразованы в список и развернуты.\n",
    "Так как код региона в дальнейшем должне был быть использован как primary key в БД, а в википедии часть кодов регионов могли были дублироваться в разных регионах, в итоге были сгруппированы все значения по коду региона."
   ]
  },
  {
   "cell_type": "code",
   "execution_count": 49,
   "id": "2364ce82-79e7-43ef-b57b-5b1beecdd572",
   "metadata": {},
   "outputs": [],
   "source": [
    "\n",
    "df_region = (\n",
    "    pd\n",
    "    .DataFrame(\n",
    "        l_body, \n",
    "        columns = l_columns\n",
    "    )\n",
    "    .dropna(subset = l_columns)\n",
    ")\n",
    "\n",
    "df_region = (\n",
    "    df_region\n",
    "    .assign(\n",
    "        **{\n",
    "            '_id': df_region['_id'].map(lambda x: x.split(', '))\n",
    "        }\n",
    "    )\n",
    "    .explode('_id')\n",
    "    .set_index('_id')\n",
    ")\n",
    "\n",
    "df_region = df_region.groupby('_id').agg(lambda x: '/'.join(x))\n"
   ]
  },
  {
   "cell_type": "markdown",
   "id": "f2bb9d50-5ba1-4244-8788-810d0d79e556",
   "metadata": {},
   "source": [
    "### 7. Загружаем данные во временную таблицу 'tmp_dict_region'"
   ]
  },
  {
   "cell_type": "code",
   "execution_count": 50,
   "id": "cb20d573-eb2c-48c3-864d-5d1cb200b38e",
   "metadata": {},
   "outputs": [
    {
     "data": {
      "text/plain": [
       "-1"
      ]
     },
     "execution_count": 50,
     "metadata": {},
     "output_type": "execute_result"
    }
   ],
   "source": [
    "\n",
    "(\n",
    "    df_region\n",
    "    .reset_index()\n",
    "    .to_sql(\n",
    "        'tmp_dict_region',\n",
    "        if_exists = 'replace',\n",
    "        index = False,\n",
    "        con = engine_pet\n",
    "    )\n",
    ")\n"
   ]
  },
  {
   "cell_type": "code",
   "execution_count": 51,
   "id": "84f2b3ce-8344-4bc2-9cfd-afc815eb6056",
   "metadata": {},
   "outputs": [
    {
     "data": {
      "text/html": [
       "<div>\n",
       "<style scoped>\n",
       "    .dataframe tbody tr th:only-of-type {\n",
       "        vertical-align: middle;\n",
       "    }\n",
       "\n",
       "    .dataframe tbody tr th {\n",
       "        vertical-align: top;\n",
       "    }\n",
       "\n",
       "    .dataframe thead th {\n",
       "        text-align: right;\n",
       "    }\n",
       "</style>\n",
       "<table border=\"1\" class=\"dataframe\">\n",
       "  <thead>\n",
       "    <tr style=\"text-align: right;\">\n",
       "      <th></th>\n",
       "      <th>Name</th>\n",
       "      <th>OKATO</th>\n",
       "      <th>ISO</th>\n",
       "      <th>GOST</th>\n",
       "    </tr>\n",
       "    <tr>\n",
       "      <th>_id</th>\n",
       "      <th></th>\n",
       "      <th></th>\n",
       "      <th></th>\n",
       "      <th></th>\n",
       "    </tr>\n",
       "  </thead>\n",
       "  <tbody>\n",
       "    <tr>\n",
       "      <th>01</th>\n",
       "      <td>Республика Адыгея (Адыгея)</td>\n",
       "      <td>79</td>\n",
       "      <td>RU-AD</td>\n",
       "      <td>RU-AD, RU-ADY</td>\n",
       "    </tr>\n",
       "    <tr>\n",
       "      <th>02</th>\n",
       "      <td>Республика Башкортостан</td>\n",
       "      <td>80</td>\n",
       "      <td>RU-BA</td>\n",
       "      <td>RU-BA, RU-BAS</td>\n",
       "    </tr>\n",
       "    <tr>\n",
       "      <th>03</th>\n",
       "      <td>Республика Бурятия</td>\n",
       "      <td>81</td>\n",
       "      <td>RU-BU</td>\n",
       "      <td>RU-BU, RU-BUR</td>\n",
       "    </tr>\n",
       "    <tr>\n",
       "      <th>04</th>\n",
       "      <td>Республика Алтай</td>\n",
       "      <td>84</td>\n",
       "      <td>RU-AL</td>\n",
       "      <td>RU-AL, RU-ALI</td>\n",
       "    </tr>\n",
       "    <tr>\n",
       "      <th>05</th>\n",
       "      <td>Республика Дагестан</td>\n",
       "      <td>82</td>\n",
       "      <td>RU-DA</td>\n",
       "      <td>RU-DA, RU-DAG</td>\n",
       "    </tr>\n",
       "  </tbody>\n",
       "</table>\n",
       "</div>"
      ],
      "text/plain": [
       "                           Name OKATO    ISO           GOST\n",
       "_id                                                        \n",
       "01   Республика Адыгея (Адыгея)    79  RU-AD  RU-AD, RU-ADY\n",
       "02      Республика Башкортостан    80  RU-BA  RU-BA, RU-BAS\n",
       "03           Республика Бурятия    81  RU-BU  RU-BU, RU-BUR\n",
       "04             Республика Алтай    84  RU-AL  RU-AL, RU-ALI\n",
       "05          Республика Дагестан    82  RU-DA  RU-DA, RU-DAG"
      ]
     },
     "execution_count": 51,
     "metadata": {},
     "output_type": "execute_result"
    }
   ],
   "source": [
    "df_region.head()"
   ]
  }
 ],
 "metadata": {
  "kernelspec": {
   "display_name": "Python 3 (ipykernel)",
   "language": "python",
   "name": "python3"
  },
  "language_info": {
   "codemirror_mode": {
    "name": "ipython",
    "version": 3
   },
   "file_extension": ".py",
   "mimetype": "text/x-python",
   "name": "python",
   "nbconvert_exporter": "python",
   "pygments_lexer": "ipython3",
   "version": "3.12.4"
  }
 },
 "nbformat": 4,
 "nbformat_minor": 5
}
